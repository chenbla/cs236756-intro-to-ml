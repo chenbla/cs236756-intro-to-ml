{
 "cells": [
  {
   "cell_type": "markdown",
   "metadata": {},
   "source": [
    "# <img src=\"https://img.icons8.com/dusk/64/000000/mind-map.png\" style=\"height:50px;display:inline\"> CS 236756 - Technion - Intro to Machine Learning\n",
    "#### Tal Daniel\n",
    "## Tutorial 02 - Introduction to Statistics\n",
    "\n",
    "### <img src=\"https://img.icons8.com/bubbles/50/000000/checklist.png\" style=\"height:50px;display:inline\"> Agenda\n",
    "\n",
    "* Statistics Definitions\n",
    "* Null and Alternative Hypotheses\n",
    "* Central Limit Theorem (CLT)\n",
    "* P-Value, Significance Level and Power\n",
    "* Confusion Matrix\n",
    "* Useful Inequalities"
   ]
  },
  {
   "cell_type": "markdown",
   "metadata": {},
   "source": [
    "<img src=\"./assets/tut_02_quote.jpg\" style=\"height:400px\">\n",
    "(image from <a href=\"https://www.azquotes.com/quote/79239\">azquotes.com</a>)"
   ]
  },
  {
   "cell_type": "code",
   "execution_count": 1,
   "metadata": {},
   "outputs": [],
   "source": [
    "# imports for the tutorial\n",
    "import numpy as np\n",
    "import pandas as pd\n",
    "import matplotlib.pyplot as plt\n",
    "%matplotlib notebook"
   ]
  },
  {
   "cell_type": "markdown",
   "metadata": {},
   "source": [
    "\n",
    "| <center>Definition</center> | <center>Description</center> | <center>Types</center> | <center>Example</center>  |\n",
    "| --- | --- | --- | --- |\n",
    "| **Population** | <center> All possible values, the entire pool from which a statistical sample is drawn. A population can thus be said to be an aggregate observation of subjects grouped together by a common feature. </center>|  | <center> An entire group of people, objects, events, hospital visits, or measurements </center>|\n",
    "| **Sample** |<center> A portion of the population, a random selection of members of a population. It is a smaller group drawn from the population that has the characteristics of the entire population. The observations and conclusions made against the sample data are attributed to the population. </center>| |<center> 1,000 participants from the total 200,000 test sitters </center>|\n",
    "| **Statistical Inference** |<center> Generalizing from a sample to a population with calculated degree of certainty </center>| <center>1. Hypothesis Testing (today) <br> 2. Estimation (previous tutorial) </center>|  |\n",
    "| **Parameter** |<center> A characteristic of population, any numerical quantity that characterizes a given population or some aspect of it. This means the parameter tells us something about the whole population. </center>| | <center>Population mean $\\mu$</center> |\n",
    "| **Statistic** |<center> Calculated from data in the sample, a single measure of some attribute of a sample. It is calculated by applying a function (statistical algorithm) to the values of the items of the sample, which are known together as a set of data. </center>| | <center>Sample mean $\\overline{X}$</center> |\n",
    "\n",
    "### <img src=\"https://img.icons8.com/dusk/64/000000/note.png\" style=\"height:40px;display:inline\"> Notes\n",
    "*  The sample must be **random**. A random sample is one in which every member of a population has an equal chance of being selected.\n",
    "* **Variables are Not Parameters** - Variables, like the name suggests, are quantities that can be changed by the experimenter. For example, the number of cases to study for a given problem is a variable. Thus a researcher might choose a population of 100 people or 150 people, depending on various statistical requirements. This would count as a variable. A parameter, on the other hand, will be independent of the variable and the number of cases that are taken to study. In fact, the parameters will fix the distribution irrespective of the total number of cases under study.\n",
    "* Notice the difference in notations, while the mean for the population denoted $\\mu$, the statistic of the mean for a sample is denoted $\\overline{X}$.\n",
    "\n",
    "The relationship between population and sample:\n",
    "<img src=\"./assets/tut_02_pop.png\">\n",
    "(image from <a href=\"https://www.cliffsnotes.com/study-guides/statistics/sampling/populations-samples-parameters-and-statistics\">cliffnotes.com</a>\n",
    "\n",
    "\n",
    "### <img src=\"https://img.icons8.com/dusk/64/000000/compare.png\" style=\"height:40px;display:inline\"> The Difference Between Parameters & Statistics\n",
    "* **Parameters and statistics are related, but are not the same thing.**\n",
    "\n",
    "|  | Parameters | Statistics |\n",
    "| -| ---------- | ---------- |\n",
    "| **Source** | <center> Population </center>| <center> Sample </center>|\n",
    "| **Random** |<center> No </center>|<center> Yes</center>|\n",
    "| **Calculated** |<center> No</center>| <center> Yes </center>|\n",
    "\n",
    "### <img src=\"https://img.icons8.com/dusk/64/000000/classroom.png\" style=\"height:50px;display:inline\"> Example - Parameters & Statistics\n",
    "Let's say we have a population of 10,000 people. Let's compare the mean height of a sample and the mean height of the population."
   ]
  },
  {
   "cell_type": "code",
   "execution_count": 7,
   "metadata": {},
   "outputs": [
    {
     "name": "stdout",
     "output_type": "stream",
     "text": [
      "size of the population: 10000\n",
      "the mean height parameter of the population: 168.574 cm\n",
      "the mean height statistic of sample 1: 169.033 cm\n",
      "the mean height statistic of sample 2: 168.593 cm\n",
      "the mean height statistic of sample 3: 168.932 cm\n"
     ]
    }
   ],
   "source": [
    "# let's load the heights dataset from previous tutorial\n",
    "# load the data\n",
    "dataset = pd.read_csv('./datasets/heights_dataset.csv')\n",
    "# use only the heights\n",
    "dataset = dataset.drop('Weight', axis=1)\n",
    "# inch -> cm\n",
    "dataset['Height'] = dataset['Height'] * 2.54\n",
    "# print the number of rows in the data set\n",
    "number_of_rows = len(dataset)\n",
    "print('size of the population: {}'.format(number_of_rows))\n",
    "print(\"the mean height parameter of the population: {:.3f} cm\".format(dataset.Height.mean()))\n",
    "# let's draw 1000 samples\n",
    "print(\"the mean height statistic of sample 1: {:.3f} cm\".format(dataset.Height.sample(1000).mean()))\n",
    "print(\"the mean height statistic of sample 2: {:.3f} cm\".format(dataset.Height.sample(1000).mean()))\n",
    "print(\"the mean height statistic of sample 3: {:.3f} cm\".format(dataset.Height.sample(1000).mean()))"
   ]
  },
  {
   "cell_type": "markdown",
   "metadata": {},
   "source": [
    "## <img src=\"https://img.icons8.com/dusk/64/000000/workflow.png\" style=\"height:50px;display:inline\"> Hypothesis Testing Steps\n",
    "\n",
    "1. **Null & Alternative Hypotheses** -  Formulate the null hypothesis $H_0$ (that the observations are the result of pure chance) and the alternative hypothesis $H_a$ (that the observations show a real effect combined with a component of chance variation).\n",
    "\n",
    "2. **Test Statistic** - Identify a test statistic that can be used to assess the truth of the null hypothesis. It is a value computed from sample data. The test statistic is used to assess the strength of evidence in support of a null hypothesis.\n",
    "\n",
    "3. **P-value & Interpretation** - Compute the P-value, which is the probability that a test statistic, at least as significant as the one observed, would be obtained assuming that the null hypothesis were true. The smaller the P-value, the stronger the evidence **against** the null hypothesis.\n",
    "\n",
    "4. **Significance Level** - Compare the p-value to an acceptable significance value $\\alpha$ (sometimes called an $\\alpha$ value, a probability threshold below which the null hypothesis will be rejected. Common values are 5% and 1%.). If $p \\leq \\alpha$ (the observed effect is statistically significant), the null hypothesis is ruled out, and the alternative hypothesis is valid.\n",
    "\n",
    "### <img src=\"https://img.icons8.com/ios/100/000000/battle.png\" style=\"height:30px;display:inline\"> The Two Competing Theories\n",
    "* **NULL** Hypothesis - $H_0$ - any observed deviation from what we expect to see is due to chance variability.\n",
    "* **ALTERNATIVE** Hypothesis - $H_a$ - 'claim', or a theory you wish to test (the reason for the observed statistic).\n",
    "\n",
    "$H_0$ is assumed **true** until enough evidence goes against it (we then refute it and believe the alternative $H_a$).\n",
    "\n",
    "### <img src=\"https://img.icons8.com/dusk/64/000000/classroom.png\" style=\"height:50px;display:inline\"> Example - Body Weight\n",
    "The following example will be used to demonstrate the statistic process:\n",
    "\n",
    "In the 1970s, 20–29 year old men in the U.S. had a mean $\\mu$ body weight of 170 pounds (~77 kg). Standard deviation $\\sigma$ was 40 pounds (~18 kg). We test whether mean body weight in the population is bigger now.\n",
    "\n",
    "#### 1- Null & Alternative Hypotheses \n",
    "\n",
    "* Under the **null hypothesis** there is no difference in the mean body weight between then and now, in which case $\\mu$ would still equal 170 pounds: $$H_0: \\mu=170$$\n",
    "* Under the **alternative hypothesis**, the mean weight has increased: $$H_a: \\mu > 170$$\n",
    "    * This statement of the alternative hypothesis is one-sided. That is, it looks only for values larger than stated under the null hypothesis.\n",
    "    * There is another way to state the alternative hypothesis. We could state it in a **“two-sided”** manner, looking for values that are either higher- or lower-than expected. For the current illustrative example, the two-sided alternative is $H_a: \\mu \\neq 170$. Although for the current illustrative example, this seems unnecessary, two-sided alternative offers several advantages and are much more common in practice.\n",
    "    \n",
    "#### 2- Test Statistic (TS)\n",
    "\n",
    "* It is a measure of how far the observed data is from what is expected under the null hypothesis $H_0$\n",
    "    * Compute the value of a test statistic (TS) from the data\n",
    "* The particular TS computed depends on the tested parameter\n",
    "    * For example, to test the population mean, the TS is the sample mean (or standardized sample mean)\n",
    "* The null hypothesis $H_0$ is rejected if the TS falls in a user-specified rejection region.\n",
    "* Different hypothesis tests use different test statistics based on the probability model assumed in the null hypothesis. Common tests and their test statistics include:\n",
    "\n",
    "| Hypothesis Test | Test Statistic |\n",
    "| ---------- | ---------- |\n",
    "|<center> Z-test </center>| <center> Z-statistic </center>|\n",
    "|<center> t-tests </center>|<center> t-statistic</center>|\n",
    "|<center> ANOVA</center>| <center> F-statistic </center>|\n",
    "|<center> Chi-square tests</center>| <center> Chi-square statistic </center>|\n",
    "\n",
    "#### <img src=\"https://img.icons8.com/dusk/64/000000/classroom.png\" style=\"height:20px;display:inline\"> Example - TS - Z-statistic\n",
    "The Z-statistic has the standard normal distribution under the null hypothesis. It is a **mean** test when $\\sigma$ is known. We will use this statistic to test the problem: $$z_{stat} = \\frac{\\overline{x} - \\mu_0}{\\sigma_{\\overline{x}}} $$ \n",
    "\n",
    "Assumptions:\n",
    "* $\\mu_0$ is the **population mean** assuming $H_0$ is **true**\n",
    "* $\\sigma_{\\overline{x}} = \\frac{\\sigma}{\\sqrt{n}}$\n",
    "\n",
    "Solve for the \"Body Weight\" problem:\n",
    "* $\\mu_0 =170$\n",
    "* $\\sigma = 40$\n",
    "* We'll take sample size of $n=64 $ samples, $\\rightarrow \\sqrt{n} = 8$\n",
    "* $\\sigma_{\\overline{x}} = \\frac{40}{8} = 5 $\n",
    "\n",
    "Now, let's assume we found a sample mean of **173**, then:\n",
    "* $z_{stat} = \\frac{\\overline{x} - \\mu_0}{\\sigma_{\\overline{x}}} = \\frac{173 - 170}{5} = 0.6$\n",
    "\n",
    "Now, let's assume we found a sample mean of **185**, then:\n",
    "* $z_{stat} = \\frac{\\overline{x} - \\mu_0}{\\sigma_{\\overline{x}}} = \\frac{185 - 170}{5} = 3$\n",
    "\n",
    "### <img src=\"https://img.icons8.com/dusk/64/000000/alarm.png\" style=\"height:30px;display:inline\"> Reminder: The Central Limit Theorem (CLT)\n",
    "The CLT states that given a sufficiently large sample size from a population with a finite level of variance, the mean of all samples from the same population will be approximately equal to the mean of the population. When n is large, the distribution of the **sample means** will approach a normal distribution. More formally:\n",
    "\n",
    "If $X_1, X_2, ..., X_n$ is a random sample of size $n$ taken from a population with mean $\\mu$ and variance $\\sigma^2$, and if $\\overline{X}$ is the sample mean, the limiting form of the distribution: $$ Z = \\frac{\\overline{X} - \\mu}{\\frac{\\sigma}{\\sqrt{n}}} $$ as $n \\rightarrow \\infty $, is the **standard normal distribution**\n",
    "\n",
    "<a href=\"http://onlinestatbook.com/stat_sim/sampling_dist/\">CLT DEMO</a>\n",
    "\n",
    "#### Reasoning Behind $z_{stat}$\n",
    "Sampling distribution of $\\overline{x}$ under $H_0$: $$ \\overline{x} \\sim N(170, 5) $$\n",
    "<img src=\"./assets/tut_02_z_stat.jpg\">\n",
    "\n"
   ]
  },
  {
   "cell_type": "markdown",
   "metadata": {},
   "source": [
    "#### 3 - P-value & Interpretation\n",
    "* All hypothesis tests ultimately use a p-value to weigh the strength of the evidence (what the data are telling you about the population). The p-value is a number between 0 and 1, and is **the probability of the observed test statistic (or one more extreme) when $H_0$ is true**\n",
    "* It corresponds to the **Area Under the Curve (AUC)** in the tail of the Standard Normal Distribution beyond the $z_{stat}$\n",
    "* Converting Z-statistics to *P-value*:  $$\\textit{For } H_a: \\mu > \\mu_0 \\rightarrow P = Pr(Z > z_{stat}) = \\textit{right-tail beyond } z_{stat} $$\n",
    "\n",
    "<img src=\"./assets/tut_02_p_val.png\" style=\"height:300px\">\n",
    "(image from <a href=\"https://courses.lumenlearning.com/wmopen-concepts-statistics/chapter/hypothesis-test-for-a-population-proportion-2-of-3/\">lumenlearning.com</a>)"
   ]
  },
  {
   "cell_type": "code",
   "execution_count": 3,
   "metadata": {},
   "outputs": [
    {
     "name": "stdout",
     "output_type": "stream",
     "text": [
      "p-val (AUC) = 0.298\n"
     ]
    },
    {
     "data": {
      "image/png": "[encoded data removed]",
      "text/plain": [
       "<Figure size 720x432 with 1 Axes>"
      ]
     },
     "metadata": {},
     "output_type": "display_data"
    }
   ],
   "source": [
    "# let's see for the body weight problem\n",
    "x = np.linspace(140, 200, 64)\n",
    "mu = 170  # H_0 is true!\n",
    "sigma = 5  # calcualted for 64 samples\n",
    "f_x = (1 / np.sqrt(2 * np.pi * sigma ** 2)) * np.exp(- (x - mu) ** 2 / (2 * sigma ** 2))\n",
    "x_normed = (x - mu) / sigma\n",
    "\n",
    "fig = plt.figure(figsize=(10,6))\n",
    "ax = fig.add_subplot(1,1,1)\n",
    "ax.plot(x, f_x, label='Standard Normal Distribution')\n",
    "ax.fill_between(x[np.where(x.astype(int)==173)[0][0]:], y1=f_x[np.where(x.astype(int)==173)[0][0]:],\n",
    "                color='red', label=\"P-value\")\n",
    "ax.grid()\n",
    "ax.legend()\n",
    "ax.set_xlabel('x')\n",
    "ax.set_title('P-Value and AUC for z-stat = 0.6')\n",
    "p_val = np.sum(f_x[np.where(x.astype(int)==173)[0][0]:])\n",
    "print('p-val (AUC) = {:.3f}'.format(p_val))"
   ]
  },
  {
   "cell_type": "code",
   "execution_count": 4,
   "metadata": {},
   "outputs": [
    {
     "name": "stdout",
     "output_type": "stream",
     "text": [
      "p-val (AUC) = 0.001\n"
     ]
    },
    {
     "data": {
      "image/png": "[encoded data removed]",
      "text/plain": [
       "<Figure size 720x432 with 1 Axes>"
      ]
     },
     "metadata": {},
     "output_type": "display_data"
    }
   ],
   "source": [
    "# let's see for the body weight problem\n",
    "x = np.linspace(140, 200, 64)\n",
    "mu = 170  # H_0 is true!\n",
    "sigma = 5  # calcualted for 64 samples\n",
    "f_x = (1 / np.sqrt(2 * np.pi * sigma ** 2)) * np.exp(- (x - mu) ** 2 / (2 * sigma ** 2))\n",
    "x_normed = (x - mu) / sigma\n",
    "\n",
    "fig = plt.figure(figsize=(10,6))\n",
    "ax = fig.add_subplot(1,1,1)\n",
    "ax.plot(x, f_x, label='Standard Normal Distribution')\n",
    "ax.fill_between(x[np.where(x.astype(int)==185)[0][0]:], y1=f_x[np.where(x.astype(int)==185)[0][0]:],\n",
    "                color='red', label=\"P-value\")\n",
    "ax.grid()\n",
    "ax.legend()\n",
    "ax.set_xlim([170, 195])\n",
    "ax.set_ylim([0, 0.05])\n",
    "ax.set_xlabel('x')\n",
    "ax.set_title('P-Value and AUC for z-stat = 3.0')\n",
    "p_val = np.sum(f_x[np.where(x.astype(int)==185)[0][0]:])\n",
    "print('p-val (AUC) = {:.3f}'.format(p_val))"
   ]
  },
  {
   "cell_type": "markdown",
   "metadata": {},
   "source": [
    "#### Interpretation\n",
    "* A small p-value (typically ≤ 0.05) indicates **strong evidence against the null hypothesis $H_0$**, so you reject the null hypothesis.\n",
    "\n",
    "* A large p-value (> 0.05) indicates weak evidence against the null hypothesis, so you fail to reject the null hypothesis.\n",
    "\n",
    "* p-values very close to the cutoff (0.05) are considered to be marginal (could go either way).\n",
    "\n",
    "#### 4- Significance Level ($\\alpha$)\n",
    "* It is the degree of certainty required in order to **reject** the null hypothesis $H_0$.\n",
    "* A test statistic, TS, with p-value **less** than some pre-determined false positive (or size) is said to be statistically significant at that level.\n",
    "* Commonly used p-values:\n",
    "\n",
    "|<center> P-Value &nbsp; &nbsp; &nbsp; &nbsp; &nbsp; &nbsp; &nbsp; &nbsp; &nbsp; &nbsp; </center> |<center> Wording </center>|\n",
    "| -----------------------------------------| --------------- |\n",
    "|<center> $p > 0.05$ </center>| <center> Not Significant </center>|\n",
    "|<center> $0.01 \\leq p \\leq 0.05$ </center>|<center> Significant</center>|\n",
    "|<center> $0.001 \\leq p < 0.01$</center>| <center> Very Significant </center>|\n",
    "|<center> $p < 0.001$</center>| <center> Extremely Significant </center>|\n",
    "\n",
    "## <img src=\"https://img.icons8.com/bubbles/50/000000/close-window.png\" style=\"height:50px;display:inline\"> Error Types\n",
    "<img src=\"./assets/tut_02_error_types.jpg\" style=\"height:300px\">\n",
    "\n",
    "* **Type I Error (False Positive)** -  the incorrect rejection of a true null hypothesis. Usually a type I error leads one to conclude that a supposed effect or relationship exists when in fact it doesn't. \n",
    "    * For example, a test that shows a patient to have a disease when in fact the patient does not have the disease, a fire alarm going on indicating a fire when in fact there is no fire, or an experiment indicating that a medical treatment should cure a disease when in fact it does not.\n",
    "    * The chance of **rejecting the null hypthesis $H_0$, when it is TRUE**, denoted by $\\alpha$\n",
    "    * $\\rightarrow$ the chance of **accepting the null hypthesis $H_0$, when it is TRUE** is $1 - \\alpha$\n",
    "    \n",
    "* **Type II Error (False Negative)** - the failure to reject a false null hypothesis.\n",
    "    * For example, a blood test failing to detect the disease it was designed to detect, in a patient who really has the disease; a fire breaking out and the fire alarm does not ring; or a clinical trial of a medical treatment failing to show that the treatment works when really it does.\n",
    "    * The chance of **not rejecting the null hypothesis $H_0$, when it is FALSE**, denoted by $\\beta$\n",
    "    * $\\rightarrow$ the chance of **rejecting the null hypthesis $H_0$, when it is FALSE** is $1 - \\beta$ (also called **power**)\n",
    "\n",
    "#### <img src=\"https://img.icons8.com/dusk/64/000000/classroom.png\" style=\"height:20px;display:inline\"> Example - Error Types\n",
    "\n",
    "* Hypothesis: \"A patient's symptoms improve after treatment A more rapidly than after a placebo treatment.\"\n",
    "\n",
    "* Null hypothesis (H0): \"A patient's symptoms after treatment A are indistinguishable from a placebo.\"\n",
    "\n",
    "* A Type I error would falsely indicate that treatment A is more effective than the placebo, whereas a Type II error would be a failure to demonstrate that treatment A is more effective than placebo even though it actually is more effective.\n",
    "\n",
    "#### Confusion Matrix\n",
    "Will get another meaning later in the course\n",
    "<img src=\"./assets/tut_02_confusion_mat.jpg\" style=\"height:300px\">"
   ]
  },
  {
   "cell_type": "markdown",
   "metadata": {},
   "source": [
    "## <img src=\"https://img.icons8.com/bubbles/50/000000/thumb-up.png\" style=\"height:50px;display:inline\"> Useful Inequalities\n",
    "* **Markov Inequality** - for a non-negative R.V (Random Variable) $X \\geq 0$ and for *any*  positive number $\\lambda > 0$: $$ Pr(X \\geq \\lambda) \\leq \\frac{\\mathbb{E}[X]}{\\lambda} $$\n",
    "    * Proof: Assume $X$ can take values $x_1 < x_2 < ... <x_j = \\lambda < ... <x_n$, then:\n",
    "    $$ \\mathbb{E}[X] = \\sum_{i=1}^n x_i \\cdot Pr(X=x_i) \\geq \\sum_{i=j}^n x_i \\cdot Pr(X=x_i) \\geq \\sum_{i=1}^n \\lambda \\cdot Pr(X=x_i) = \\lambda \\cdot \\sum_{i=j}^n Pr(X=x_i) =  \\lambda \\cdot Pr(X \\geq \\lambda)$$\n",
    "    \n",
    "* **Chebyshev Inequality** - for any R.V (Random Variable)  $X \\geq 0$ and for *any*  positive number $\\lambda > 0$: $$ Pr(|X-\\mathbb{E}[X]| \\geq \\lambda) \\leq \\frac{Var(X)}{\\lambda^2} $$\n",
    "    * Proof using the Markov Inequality.\n",
    "* **Chernoff Inequality** - Let $X_1, X_2, ..., X_m$ be a sequence of *m* i.i.d Bernoulli trials, then: $$ Pr(|\\frac{1}{m} \\sum_i X_i - \\mathbb{E}[X]| \\geq \\lambda) \\leq e^{-\\frac{\\lambda^2 m}{2}} $$"
   ]
  },
  {
   "cell_type": "markdown",
   "metadata": {},
   "source": [
    "## <img src=\"https://img.icons8.com/dusk/64/000000/prize.png\" style=\"height:50px;display:inline\"> Credits\n",
    "* Icons from <a href=\"https://icons8.com/\">Icon8.com</a> - https://icons8.com\n",
    "* Datasets from <a href=\"https://www.kaggle.com/\">Kaggle</a> - https://www.kaggle.com/"
   ]
  }
 ],
 "metadata": {
  "kernelspec": {
   "display_name": "Python 3",
   "language": "python",
   "name": "python3"
  },
  "language_info": {
   "codemirror_mode": {
    "name": "ipython",
    "version": 3
   },
   "file_extension": ".py",
   "mimetype": "text/x-python",
   "name": "python",
   "nbconvert_exporter": "python",
   "pygments_lexer": "ipython3",
   "version": "3.5.5"
  }
 },
 "nbformat": 4,
 "nbformat_minor": 2
}
